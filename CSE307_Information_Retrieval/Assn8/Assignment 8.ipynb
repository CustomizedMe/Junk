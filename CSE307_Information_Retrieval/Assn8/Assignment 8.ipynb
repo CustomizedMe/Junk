{
 "cells": [
  {
   "cell_type": "code",
   "execution_count": 1,
   "metadata": {},
   "outputs": [],
   "source": [
    "import numpy as np"
   ]
  },
  {
   "cell_type": "code",
   "execution_count": 35,
   "metadata": {},
   "outputs": [],
   "source": [
    "class WebGraph:\n",
    "    def __init__(self, n,edges=None):\n",
    "        self.vertices = n;\n",
    "        self.matrix = np.zeros((n,n))\n",
    "        if edges != None:\n",
    "            self.addEdges(edges)\n",
    "    \n",
    "    def addEdge(self,a,b):\n",
    "        self.matrix[a][b] = 1\n",
    "    \n",
    "    def addEdges(self,edges):\n",
    "        for p in edges:\n",
    "            self.addEdge(p[0],p[1])\n",
    "            \n",
    "    def display(self):\n",
    "        print(\"Vertices: \"+ str(self.vertices))\n",
    "        print(\"Adjacency Matrix:\")\n",
    "        print('x', *list(range(self.vertices)), sep=\"  \")\n",
    "        for i in range(self.vertices):\n",
    "            print(i, self.matrix[i])"
   ]
  },
  {
   "cell_type": "code",
   "execution_count": 36,
   "metadata": {},
   "outputs": [
    {
     "name": "stdout",
     "output_type": "stream",
     "text": [
      "Vertices: 6\n",
      "Adjacency Matrix:\n",
      "x  0  1  2  3  4  5\n",
      "0 [0. 1. 0. 0. 1. 0.]\n",
      "1 [0. 0. 0. 0. 1. 0.]\n",
      "2 [1. 0. 0. 0. 0. 0.]\n",
      "3 [0. 0. 0. 0. 1. 0.]\n",
      "4 [0. 0. 0. 0. 0. 0.]\n",
      "5 [0. 0. 1. 1. 0. 0.]\n"
     ]
    }
   ],
   "source": [
    "web = WebGraph(6)\n",
    "edges = [(0,1),(0,4),(1,4),(2,0),(3,4),(5,3),(5,2)]\n",
    "web.addEdges(edges)\n",
    "web.display()"
   ]
  },
  {
   "cell_type": "code",
   "execution_count": 93,
   "metadata": {},
   "outputs": [],
   "source": [
    "class PageRank:\n",
    "    epsilon = 10 ** -6\n",
    "    max_iter = 10 ** 3\n",
    "    \n",
    "    def __init__(self, webGraph, alpha=0.85):\n",
    "        self.graph = webGraph\n",
    "        self.alpha = alpha\n",
    "        self.matrix = self._calc_matrix()\n",
    "    \n",
    "    def compute(self,iters=max_iter):\n",
    "        n = self.graph.vertices\n",
    "        \n",
    "        prev_ranks = np.zeros((n,1))\n",
    "        ranks = np.zeros((n,1)) + (1/n)\n",
    "        \n",
    "        for i in range(iters):\n",
    "            \n",
    "            prev_ranks = ranks\n",
    "            ranks = np.dot(self.matrix,ranks)\n",
    "            \n",
    "            if self._check_equal(ranks,prev_ranks):\n",
    "                print(\"Number of iterations to converge :\", str(i))\n",
    "                break;\n",
    "        \n",
    "        return self._display_ranks(ranks)\n",
    "        \n",
    "    \n",
    "    def _calc_matrix(self):\n",
    "        n = self.graph.vertices\n",
    "        alpha = self.alpha\n",
    "        adj_mat = self.graph.matrix.T\n",
    "        \n",
    "        e = np.ones((n,1))\n",
    "        E = (1/n)*np.dot(e,e.T)\n",
    "        \n",
    "        outlinks = np.sum(adj_mat,axis=0,keepdims=True)\n",
    "        temp = np.where(outlinks>0,outlinks,1)\n",
    "        \n",
    "        A = adj_mat / temp\n",
    "        a = np.where(outlinks>0,0,1)\n",
    "        S = A + (1/n)*np.dot(e,a)\n",
    "\n",
    "        return alpha*S + (1-alpha)*E\n",
    "    \n",
    "    def _check_equal(self,a,b):\n",
    "        return np.allclose(a,b,atol=PageRank.epsilon)\n",
    "    \n",
    "    def _display_ranks(self,ranks):\n",
    "        print(\"Ranks:\")\n",
    "        order = [(i,ranks[i][0]) for i in range(self.graph.vertices)]\n",
    "        print(*order, sep=\"\\n\")"
   ]
  },
  {
   "cell_type": "code",
   "execution_count": 94,
   "metadata": {},
   "outputs": [
    {
     "name": "stdout",
     "output_type": "stream",
     "text": [
      "Number of iterations to converge : 16\n",
      "Ranks:\n",
      "(0, 0.17437881073432016)\n",
      "(1, 0.09425859034559432)\n",
      "(2, 0.22166967355945708)\n",
      "(3, 0.09425859034559432)\n",
      "(4, 0.07344810303025562)\n",
      "(5, 0.34198623198477823)\n"
     ]
    }
   ],
   "source": [
    "p = PageRank(web)\n",
    "p.compute()"
   ]
  },
  {
   "cell_type": "code",
   "execution_count": 125,
   "metadata": {},
   "outputs": [],
   "source": [
    "class HITS:\n",
    "    epsilon = 10 ** -6\n",
    "    max_iter = 10 ** 3\n",
    "    \n",
    "    def __init__(self,webGraph):\n",
    "        self.graph = webGraph\n",
    "        self.A_mat, self.H_mat = self._calc_matrix()\n",
    "        \n",
    "    def compute(self,iters=max_iter):\n",
    "        n = self.graph.vertices\n",
    "        \n",
    "        auths = np.zeros((n,1))+(1/n)\n",
    "        hubs = np.zeros((n,1))+(1/n)\n",
    "        \n",
    "        for i in range(iters):\n",
    "            \n",
    "            prev_auths = auths\n",
    "            prev_hubs = hubs\n",
    "            \n",
    "            auths = np.dot(self.A_mat,auths)\n",
    "            hubs = np.dot(self.H_mat,hubs)\n",
    "            \n",
    "            auths = auths / np.sum(auths, axis=0)\n",
    "            hubs = hubs / np.sum(hubs, axis=0)\n",
    "            \n",
    "            if self._equal(prev_auths,auths) and self._equal(prev_hubs,hubs):\n",
    "                print(i)\n",
    "                break\n",
    "                \n",
    "        return self._display_scores(auths,hubs)\n",
    "    \n",
    "    def _calc_matrix(self):\n",
    "        E = self.graph.matrix\n",
    "        return (np.dot(E.T,E), np.dot(E,E.T))\n",
    "    \n",
    "    def _equal(self,a,b):\n",
    "        return np.allclose(a,b,atol=self.epsilon)\n",
    "    \n",
    "    def _display_scores(self,auths,hubs):\n",
    "        print(\"Page Score : (Auth, Hub)\")\n",
    "        order = [ [i,(auths[i][0],hubs[i][0])] for i in range(self.graph.vertices)]\n",
    "        print(*order,sep=\"\\n\")"
   ]
  },
  {
   "cell_type": "code",
   "execution_count": 126,
   "metadata": {},
   "outputs": [
    {
     "name": "stdout",
     "output_type": "stream",
     "text": [
      "24\n",
      "Page Score : (Auth, Hub)\n",
      "[0, (2.7256584815491182e-14, 0.41421334045867064)]\n",
      "[1, (0.2928926830653403, 0.29289306189625813)]\n",
      "[2, (9.145792217436314e-07, 1.5966558372254028e-14)]\n",
      "[3, (9.145792217436314e-07, 0.29289306189625813)]\n",
      "[4, (0.707105487776189, 0.0)]\n",
      "[5, (0.0, 5.357487971758285e-07)]\n"
     ]
    }
   ],
   "source": [
    "h = HITS(web)\n",
    "h.compute()"
   ]
  },
  {
   "cell_type": "code",
   "execution_count": null,
   "metadata": {},
   "outputs": [],
   "source": []
  },
  {
   "cell_type": "code",
   "execution_count": null,
   "metadata": {},
   "outputs": [],
   "source": []
  }
 ],
 "metadata": {
  "kernelspec": {
   "display_name": "Python 3",
   "language": "python",
   "name": "python3"
  },
  "language_info": {
   "codemirror_mode": {
    "name": "ipython",
    "version": 3
   },
   "file_extension": ".py",
   "mimetype": "text/x-python",
   "name": "python",
   "nbconvert_exporter": "python",
   "pygments_lexer": "ipython3",
   "version": "3.7.3"
  }
 },
 "nbformat": 4,
 "nbformat_minor": 4
}
