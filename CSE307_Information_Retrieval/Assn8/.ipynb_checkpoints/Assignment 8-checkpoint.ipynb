{
 "cells": [
  {
   "cell_type": "code",
   "execution_count": 1,
   "metadata": {},
   "outputs": [],
   "source": [
    "import numpy as np"
   ]
  },
  {
   "cell_type": "markdown",
   "metadata": {},
   "source": [
    "### PageRank\n",
    "\n",
    "#### Steps\n",
    "\n",
    "1. Define the graph\n",
    "2. Conctruct the graph\n",
    "3. Initialize PageRank vector and Link Matrix\n",
    "4. Iterate till the Pagerank vectors converge"
   ]
  },
  {
   "cell_type": "code",
   "execution_count": 2,
   "metadata": {},
   "outputs": [],
   "source": [
    "class WebGraph:\n",
    "    def __init__(self, n,edges=None):\n",
    "        self.vertices = n;\n",
    "        self.matrix = np.zeros((n,n))\n",
    "        self.addEdges(edges)\n",
    "    \n",
    "    def addEdge(self,a,b):\n",
    "        self.matrix[a][b] = 1\n",
    "    \n",
    "    def addEdges(self,edges):\n",
    "        for p in edges:\n",
    "            self.addEdge(p[0],p[1])"
   ]
  },
  {
   "cell_type": "code",
   "execution_count": null,
   "metadata": {},
   "outputs": [],
   "source": [
    "class PageRank:\n",
    "    epsilon = 10 ** -6\n",
    "    max_iter = 10 ** 3\n",
    "    \n",
    "    def __init__(self, webGraph, alpha=0.15):\n",
    "        self.graph = webGraph\n",
    "        self.alpha = alpha\n",
    "        self.matrix = self._calcMatrix()\n",
    "    \n",
    "    def compute(self,iters=self.max_iter):\n",
    "        n = self.graph.vertices\n",
    "        \n",
    "        prev_ranks = np.zeros((n,1))\n",
    "        ranks = np.zeros((n,1)) + (1/n)\n",
    "        \n",
    "        for i in range(iters):\n",
    "            \n",
    "            prev_ranks = ranks\n",
    "            ranks = np.dot(self.matrix,ranks)\n",
    "            \n",
    "            if self._check_equal(ranks,prev_ranks):\n",
    "                break;\n",
    "                \n",
    "        return self.display_ranks(ranks)\n",
    "        \n",
    "    \n",
    "    def _calcMatrix(self):\n",
    "        n = self.graph.vertices\n",
    "        alpha = self.alpha\n",
    "        adj_mat = self.graph.matrix\n",
    "        \n",
    "        e = np.ones((n,1))\n",
    "        E = (1/n)*np.dot(e,e.T)\n",
    "        \n",
    "        outlinks = np.sum(adj_mat,axis=1,keepdims=True)\n",
    "        temp = np.where(x>0,x,1)\n",
    "        \n",
    "        S = adj_mat / temp\n",
    "        \n",
    "        return alpha*S + (1-alpha)*E"
   ]
  }
 ],
 "metadata": {
  "kernelspec": {
   "display_name": "Python 3",
   "language": "python",
   "name": "python3"
  },
  "language_info": {
   "codemirror_mode": {
    "name": "ipython",
    "version": 3
   },
   "file_extension": ".py",
   "mimetype": "text/x-python",
   "name": "python",
   "nbconvert_exporter": "python",
   "pygments_lexer": "ipython3",
   "version": "3.7.3"
  }
 },
 "nbformat": 4,
 "nbformat_minor": 4
}
